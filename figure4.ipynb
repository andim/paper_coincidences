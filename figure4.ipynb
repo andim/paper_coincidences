{
 "cells": [
  {
   "cell_type": "markdown",
   "metadata": {},
   "source": [
    "# Decomposing paired chain restriction"
   ]
  },
  {
   "cell_type": "code",
   "execution_count": 1,
   "metadata": {},
   "outputs": [],
   "source": [
    "import numpy as np\n",
    "import pandas as pd\n",
    "import matplotlib.pyplot as plt\n",
    "import matplotlib as mpl\n",
    "import pyrepseq as prs\n",
    "\n",
    "plt.style.use('tcrspace.mplstyle')"
   ]
  },
  {
   "cell_type": "code",
   "execution_count": 2,
   "metadata": {},
   "outputs": [],
   "source": [
    "# whether to also match V and J genes for exact coincidences\n",
    "match_genes = False"
   ]
  },
  {
   "cell_type": "code",
   "execution_count": 3,
   "metadata": {},
   "outputs": [],
   "source": [
    "d = pd.read_csv('data/dash_human.csv')\n",
    "if match_genes:\n",
    "    d['j_a_gene'].fillna(value='na', inplace=True)\n",
    "    d['cdr3_a_aa'] = d['v_a_gene'] + d['cdr3_a_aa'] + d['j_a_gene']\n",
    "    d['cdr3_b_aa'] = d['v_b_gene'] + d['cdr3_b_aa'] + d['j_b_gene']\n",
    "d['cdr3s'] = d['cdr3_a_aa'] + d['cdr3_b_aa']"
   ]
  },
  {
   "cell_type": "code",
   "execution_count": 4,
   "metadata": {},
   "outputs": [],
   "source": [
    "# get a background coincidence frequency array\n",
    "chains = ['alpha', 'beta']\n",
    "data_directory ='data/minervina/'\n",
    "pcback = {}\n",
    "for chain in chains:\n",
    "    df_back = pd.read_csv(data_directory + '{chain}/W_F1_2018_{chain}.txt.gz'.format(chain=chain), sep='\\t')\n",
    "    df_back = df_back[df_back['aaSeqCDR3'].apply(prs.isvalidcdr3)]\n",
    "    if match_genes:\n",
    "        df_back['aaSeqCDR3'] = df_back['bestVGene'] + df_back['aaSeqCDR3'] + df_back['bestJGene']\n",
    "    pcback[chain] = prs.pc(df_back['aaSeqCDR3'])\n",
    "pcback['both'] = pcback['alpha']*pcback['beta']"
   ]
  },
  {
   "cell_type": "code",
   "execution_count": 5,
   "metadata": {},
   "outputs": [],
   "source": [
    "chis = []\n",
    "for epitope, dfg in d.groupby('epitope'):\n",
    "    chib = prs.pc(d[d['epitope']==epitope]['cdr3_b_aa'])/pcback['beta']\n",
    "    chia = prs.pc(d[d['epitope']==epitope]['cdr3_a_aa'])/pcback['alpha']\n",
    "    chiab = prs.pc(d[d['epitope']==epitope]['cdr3s'])/pcback['both']\n",
    "    chis.append([epitope, (chia), (chib), (chiab)])\n",
    "chis = pd.DataFrame(chis, columns=['epitope', 'pca', 'pcb', 'pcab'])"
   ]
  },
  {
   "cell_type": "code",
   "execution_count": 6,
   "metadata": {},
   "outputs": [
    {
     "data": {
      "image/png": "[encoded data removed]",
      "text/plain": [
       "<Figure size 115.2x144 with 1 Axes>"
      ]
     },
     "metadata": {},
     "output_type": "display_data"
    }
   ],
   "source": [
    "fig, ax = plt.subplots(figsize=(1.6, 2.0))\n",
    "\n",
    "plt.bar(chis['epitope'], chis['pcb'], label=r\"$\\beta$\")\n",
    "plt.bar(chis['epitope'], chis['pca']*chis['pcb'], label=r'$\\alpha$', zorder=-1)\n",
    "plt.bar(chis['epitope'], chis['pcab'], label='Pairing', zorder=-2)\n",
    "\n",
    "plt.xticks(rotation=90)\n",
    "ax.set_yscale('log')\n",
    "ax.set_ylim(1e0, 2e9)\n",
    "ax.set_yticks(10**np.arange(0, 10, 2))\n",
    "ax.set_xlabel(\"Antigen\")\n",
    "ax.set_ylabel('$p_C(0)/p_{C,back}(0)$')\n",
    "fig.tight_layout(rect=(0.0, 0.0, 0.75, 1.0))\n",
    "ax.legend(loc='upper left', bbox_to_anchor=(1.0, 1.0))\n",
    "fig.savefig('figures/figure4.svg')"
   ]
  },
  {
   "cell_type": "code",
   "execution_count": 7,
   "metadata": {},
   "outputs": [
    {
     "data": {
      "text/html": [
       "<div>\n",
       "<style scoped>\n",
       "    .dataframe tbody tr th:only-of-type {\n",
       "        vertical-align: middle;\n",
       "    }\n",
       "\n",
       "    .dataframe tbody tr th {\n",
       "        vertical-align: top;\n",
       "    }\n",
       "\n",
       "    .dataframe thead th {\n",
       "        text-align: right;\n",
       "    }\n",
       "</style>\n",
       "<table border=\"1\" class=\"dataframe\">\n",
       "  <thead>\n",
       "    <tr style=\"text-align: right;\">\n",
       "      <th></th>\n",
       "      <th>epitope</th>\n",
       "      <th>pca</th>\n",
       "      <th>pcb</th>\n",
       "      <th>pcab</th>\n",
       "    </tr>\n",
       "  </thead>\n",
       "  <tbody>\n",
       "    <tr>\n",
       "      <th>0</th>\n",
       "      <td>BMLF</td>\n",
       "      <td>9127.642299</td>\n",
       "      <td>19969.600824</td>\n",
       "      <td>4.168514e+08</td>\n",
       "    </tr>\n",
       "    <tr>\n",
       "      <th>1</th>\n",
       "      <td>M1</td>\n",
       "      <td>2012.393578</td>\n",
       "      <td>44308.891950</td>\n",
       "      <td>5.756547e+08</td>\n",
       "    </tr>\n",
       "    <tr>\n",
       "      <th>2</th>\n",
       "      <td>pp65</td>\n",
       "      <td>3758.440947</td>\n",
       "      <td>12248.511290</td>\n",
       "      <td>4.462762e+08</td>\n",
       "    </tr>\n",
       "  </tbody>\n",
       "</table>\n",
       "</div>"
      ],
      "text/plain": [
       "  epitope          pca           pcb          pcab\n",
       "0    BMLF  9127.642299  19969.600824  4.168514e+08\n",
       "1      M1  2012.393578  44308.891950  5.756547e+08\n",
       "2    pp65  3758.440947  12248.511290  4.462762e+08"
      ]
     },
     "execution_count": 7,
     "metadata": {},
     "output_type": "execute_result"
    }
   ],
   "source": [
    "chis"
   ]
  },
  {
   "cell_type": "code",
   "execution_count": 8,
   "metadata": {},
   "outputs": [
    {
     "data": {
      "text/plain": [
       "pca     4.966159e+03\n",
       "pcb     2.550900e+04\n",
       "pcab    4.795941e+08\n",
       "dtype: float64"
      ]
     },
     "execution_count": 8,
     "metadata": {},
     "output_type": "execute_result"
    }
   ],
   "source": [
    "chis_mean = chis[['pca', 'pcb', 'pcab']].mean()\n",
    "chis_mean"
   ]
  },
  {
   "cell_type": "code",
   "execution_count": 9,
   "metadata": {},
   "outputs": [
    {
     "data": {
      "text/plain": [
       "0     2.187816\n",
       "1    22.018005\n",
       "2     3.258934\n",
       "dtype: float64"
      ]
     },
     "execution_count": 9,
     "metadata": {},
     "output_type": "execute_result"
    }
   ],
   "source": [
    "chis['pcb']/chis['pca']"
   ]
  },
  {
   "cell_type": "code",
   "execution_count": 10,
   "metadata": {},
   "outputs": [
    {
     "data": {
      "text/plain": [
       "5.1365656346846515"
      ]
     },
     "execution_count": 10,
     "metadata": {},
     "output_type": "execute_result"
    }
   ],
   "source": [
    "chis_mean['pcb']/chis_mean['pca']"
   ]
  },
  {
   "cell_type": "code",
   "execution_count": null,
   "metadata": {},
   "outputs": [],
   "source": []
  }
 ],
 "metadata": {
  "kernelspec": {
   "display_name": "Python 3",
   "language": "python",
   "name": "python3"
  },
  "language_info": {
   "codemirror_mode": {
    "name": "ipython",
    "version": 3
   },
   "file_extension": ".py",
   "mimetype": "text/x-python",
   "name": "python",
   "nbconvert_exporter": "python",
   "pygments_lexer": "ipython3",
   "version": "3.6.13"
  }
 },
 "nbformat": 4,
 "nbformat_minor": 4
}
