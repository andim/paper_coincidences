{
 "cells": [
  {
   "cell_type": "markdown",
   "id": "90c66594",
   "metadata": {},
   "source": [
    "# A mixture of motifs model reproduces the binding signature"
   ]
  },
  {
   "cell_type": "code",
   "execution_count": 1,
   "id": "185f32ea",
   "metadata": {},
   "outputs": [],
   "source": [
    "import itertools\n",
    "import numpy as np\n",
    "import pandas as pd\n",
    "import matplotlib.pyplot as plt\n",
    "from collections import defaultdict\n",
    "\n",
    "import pyrepseq as prs\n",
    "import pyrepseq.plotting as pp\n",
    "\n",
    "plt.style.use('tcrspace.mplstyle')"
   ]
  },
  {
   "cell_type": "code",
   "execution_count": 2,
   "id": "92928de8",
   "metadata": {},
   "outputs": [],
   "source": [
    "# number of total sites\n",
    "k = 6\n",
    "# number of choices for specific binding\n",
    "c = 3\n",
    "# number of choices of aminoacids\n",
    "q = 20"
   ]
  },
  {
   "cell_type": "markdown",
   "id": "244623d1",
   "metadata": {},
   "source": [
    "# Step 1: Generate background k-mer sequences using realistic aa usage frequencies"
   ]
  },
  {
   "cell_type": "code",
   "execution_count": 3,
   "id": "aa9d35b1",
   "metadata": {},
   "outputs": [],
   "source": [
    "data_directory ='data/minervina/'\n",
    "chain = 'alpha'\n",
    "df_back = pd.read_csv(data_directory + '{chain}/W_F1_2018_{chain}.txt.gz'.format(chain=chain), sep='\\t')\n",
    "df_back = df_back[df_back['aaSeqCDR3'].apply(prs.isvalidcdr3)]    "
   ]
  },
  {
   "cell_type": "code",
   "execution_count": 4,
   "id": "8bb40c2e",
   "metadata": {},
   "outputs": [],
   "source": [
    "def count_kmers(string, k, counter=None, gap=0):\n",
    "    \"\"\"\n",
    "    Count occurrence of kmers in a given string.\n",
    "    \"\"\"\n",
    "    if counter is None:\n",
    "        counter = defaultdict(int)\n",
    "    for i in range(len(string)-k-gap+1):\n",
    "        if gap:\n",
    "            counter[string[i]+string[i+gap+1:i+k+gap]] += 1\n",
    "        else:\n",
    "            counter[string[i:i+k]] += 1\n",
    "    return counter"
   ]
  },
  {
   "cell_type": "code",
   "execution_count": 5,
   "id": "d27298a3",
   "metadata": {},
   "outputs": [],
   "source": [
    "def count_kmers_iterable(iterable, k, clean=False, **kwargs):\n",
    "    \"\"\"\n",
    "    Count number of kmers in all strings of an iterable\n",
    "    \"\"\"\n",
    "    counter = defaultdict(int)\n",
    "    for seq in iterable:\n",
    "        count_kmers(seq, k, counter=counter, **kwargs)\n",
    "    if clean:\n",
    "        counter = {k:counter[k] for k in counter.keys() if isvalidaa(k)}\n",
    "    return counter"
   ]
  },
  {
   "cell_type": "code",
   "execution_count": 6,
   "id": "0315cf90",
   "metadata": {},
   "outputs": [],
   "source": [
    "aacounts = count_kmers_iterable(df_back['aaSeqCDR3'], 1)"
   ]
  },
  {
   "cell_type": "code",
   "execution_count": 7,
   "id": "0e5707fc",
   "metadata": {},
   "outputs": [
    {
     "data": {
      "text/plain": [
       "20"
      ]
     },
     "execution_count": 7,
     "metadata": {},
     "output_type": "execute_result"
    }
   ],
   "source": [
    "aminoacids = list(aacounts.keys())\n",
    "len(aminoacids)"
   ]
  },
  {
   "cell_type": "code",
   "execution_count": 8,
   "id": "9c2b26db",
   "metadata": {},
   "outputs": [],
   "source": [
    "weights = np.array(list(aacounts.values()),\n",
    "                  dtype=np.float)\n",
    "weights /= np.sum(weights)"
   ]
  },
  {
   "cell_type": "code",
   "execution_count": 9,
   "id": "60d13260",
   "metadata": {},
   "outputs": [],
   "source": [
    "num_seqs = int(2e7)\n",
    "sequences = [''.join(row) for row in np.random.choice(list(aminoacids),\n",
    "                                                     (num_seqs, k),\n",
    "                                                     p=weights)]"
   ]
  },
  {
   "cell_type": "code",
   "execution_count": 10,
   "id": "28554eff",
   "metadata": {},
   "outputs": [],
   "source": [
    "bins = np.arange(0, k+2)\n",
    "hist_back_norm = prs.pcDelta(sequences, bins=bins, maxseqs=10000)\n",
    "hist_back_norm[0] = prs.pc(sequences)"
   ]
  },
  {
   "cell_type": "markdown",
   "id": "7ef61d42",
   "metadata": {},
   "source": [
    "# Step 2: Generate specific sequences according to a multi-motif selection model"
   ]
  },
  {
   "cell_type": "code",
   "execution_count": 11,
   "id": "01c220c9",
   "metadata": {},
   "outputs": [],
   "source": [
    "def list_motif(*motif):\n",
    "    return list(''.join(seq) for seq in itertools.product(*motif))"
   ]
  },
  {
   "cell_type": "code",
   "execution_count": 12,
   "id": "18804aba",
   "metadata": {},
   "outputs": [],
   "source": [
    "def simulate_binding(num_seqlogos, prng=np.random):\n",
    "    specific_sequences = []\n",
    "    for i in range(num_seqlogos):\n",
    "        motif = [tuple(prng.choice(list(set(aminoacids)), size=c, replace=False))\n",
    "                 for i in range(k)]\n",
    "        specific_sequences.extend(list_motif(*motif))\n",
    "    # find which of the background sequences is in the set of motif compatible sequences\n",
    "    pd_sequences = pd.Series(sequences)\n",
    "    sampled_sequences = np.array(pd_sequences[pd_sequences.isin(set(specific_sequences))])\n",
    "    return sampled_sequences"
   ]
  },
  {
   "cell_type": "code",
   "execution_count": 13,
   "id": "7f0143ba",
   "metadata": {},
   "outputs": [
    {
     "name": "stdout",
     "output_type": "stream",
     "text": [
      "64\n",
      "2033\n",
      "11400\n"
     ]
    }
   ],
   "source": [
    "num_seqlogoss = [1, 10, 50]\n",
    "hist_norms = {}\n",
    "prng = np.random.RandomState(12345)\n",
    "for num_seqlogos in num_seqlogoss:\n",
    "    sampled_sequences = simulate_binding(num_seqlogos, prng=prng)\n",
    "    print(len(sampled_sequences))\n",
    "    hist_norm = prs.pcDelta(sampled_sequences, bins=bins)\n",
    "    hist_norms[num_seqlogos] = hist_norm"
   ]
  },
  {
   "cell_type": "code",
   "execution_count": 14,
   "id": "345d57e5",
   "metadata": {},
   "outputs": [],
   "source": [
    "def pcratio_analytical(Delta, q, c, k, M):\n",
    "    return 1.0/M * (q/c)**k * ((c-1.0)/(q-1.0))**Delta + 1 - 1.0/M"
   ]
  },
  {
   "cell_type": "code",
   "execution_count": 15,
   "id": "39e6bc31",
   "metadata": {
    "scrolled": true
   },
   "outputs": [
    {
     "data": {
      "image/png": "[encoded data removed]",
      "text/plain": [
       "<Figure size 246.24x144 with 2 Axes>"
      ]
     },
     "metadata": {},
     "output_type": "display_data"
    }
   ],
   "source": [
    "fig, axes = plt.subplots(figsize=(3.42, 2.0), ncols=2)\n",
    "\n",
    "num_lines = []\n",
    "for i, num_seqlogos in enumerate(num_seqlogoss):\n",
    "    hist_norm = hist_norms[num_seqlogos]\n",
    "    axes[0].plot(bins[:-1], hist_norm, 'o-', label='M={N}'.format(N=num_seqlogos), color=f'C{i+1}')\n",
    "    l, = axes[1].plot(bins[:-1], hist_norm/hist_back_norm, 'x', ms=3, color=f'C{i+1}')\n",
    "    num_lines.append(l)\n",
    "\n",
    "axes[0].plot(bins[:-1], hist_back_norm, 'o-', label='Bkgd', color='C0')\n",
    "\n",
    "axes[1].axhline(1.0, color='k')\n",
    "Delta = bins[:-1]\n",
    "analytical_lines = []\n",
    "for i, num_seqlogos in enumerate(num_seqlogoss):\n",
    "    l, = axes[1].plot(Delta, pcratio_analytical(Delta, q, c, k, num_seqlogos), '-',\n",
    "            zorder=10, color=f'C{i+1}')\n",
    "    analytical_lines.append(l)\n",
    "\n",
    "axes[1].legend([tuple(analytical_lines), tuple(num_lines)], ['Theory', 'Simulation'],\n",
    "               handler_map={tuple: pp.HandlerTupleOffset(horizontal=False)},\n",
    "               loc='lower left', fontsize='small')\n",
    "\n",
    "axes[0].set_ylabel('$p_C(\\Delta)$')\n",
    "axes[1].set_ylabel(r'$p_C(\\Delta)\\,/\\,p_{C,back}(\\Delta)$')\n",
    "for ax in axes:\n",
    "    ax.set_yscale('log')\n",
    "    ax.set_xlabel('$\\Delta$')\n",
    "    ax.set_xlim(-0.5, k+0.5)\n",
    "    ax.set_xticks(np.arange(k+1))\n",
    "axes[0].legend(loc='lower right', bbox_to_anchor=(1.1, 0.0), fontsize='small')\n",
    "fig.tight_layout(w_pad=0.0)\n",
    "pp.label_axes(fig, xy=(-0.4, 0.95))\n",
    "fig.savefig('figures/figure5.svg')"
   ]
  },
  {
   "cell_type": "code",
   "execution_count": null,
   "id": "d02d4674",
   "metadata": {},
   "outputs": [],
   "source": []
  }
 ],
 "metadata": {
  "kernelspec": {
   "display_name": "Python 3",
   "language": "python",
   "name": "python3"
  },
  "language_info": {
   "codemirror_mode": {
    "name": "ipython",
    "version": 3
   },
   "file_extension": ".py",
   "mimetype": "text/x-python",
   "name": "python",
   "nbconvert_exporter": "python",
   "pygments_lexer": "ipython3",
   "version": "3.6.13"
  }
 },
 "nbformat": 4,
 "nbformat_minor": 5
}
