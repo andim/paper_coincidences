{
 "cells": [
  {
   "cell_type": "markdown",
   "metadata": {},
   "source": [
    "# Mixture averaging and coincidence probabilities"
   ]
  },
  {
   "cell_type": "code",
   "execution_count": 1,
   "metadata": {},
   "outputs": [],
   "source": [
    "import numpy as np\n",
    "import pandas as pd\n",
    "import matplotlib.pyplot as plt\n",
    "\n",
    "import pyrepseq as prs\n",
    "\n",
    "from lib import *\n",
    "\n",
    "plt.style.use('tcrspace.mplstyle')\n",
    "\n",
    "pcDelta_kwargs = dict(pseudocount=0.0, normalize=True)"
   ]
  },
  {
   "cell_type": "markdown",
   "metadata": {},
   "source": [
    "## Load Multimer data"
   ]
  },
  {
   "cell_type": "code",
   "execution_count": 2,
   "metadata": {},
   "outputs": [],
   "source": [
    "dash = pd.read_csv(f'{data_directory}/dash_human.csv')\n",
    "dash_pcDeltas = prs.pcDelta_grouped(dash, 'epitope',\n",
    "                                    ['cdr3_a_aa', 'cdr3_b_aa'],\n",
    "                                    **pcDelta_kwargs)"
   ]
  },
  {
   "cell_type": "code",
   "execution_count": 3,
   "metadata": {},
   "outputs": [],
   "source": [
    "minervina = pd.read_csv(f'{data_directory}/minervina2022.csv')\n",
    "minervina = minervina.groupby('epitope').filter(lambda x: len(x) > 150)\n",
    "minervina_pcDeltas = prs.pcDelta_grouped(minervina, 'epitope',\n",
    "                                           ['cdr3a', 'cdr3b'],\n",
    "                                           **pcDelta_kwargs)"
   ]
  },
  {
   "cell_type": "code",
   "execution_count": 4,
   "metadata": {},
   "outputs": [],
   "source": [
    "multimer_pcDeltas = pd.concat([dash_pcDeltas, minervina_pcDeltas])"
   ]
  },
  {
   "cell_type": "markdown",
   "metadata": {},
   "source": [
    "## Load Tanno et al. data"
   ]
  },
  {
   "cell_type": "code",
   "execution_count": 5,
   "metadata": {},
   "outputs": [],
   "source": [
    "data_dir = 'data/tanno/pruned'\n",
    "dfs = {f : pd.read_csv(f'{data_dir}/pdist_{f}.csv') for f in tannofiles}"
   ]
  },
  {
   "cell_type": "code",
   "execution_count": 6,
   "metadata": {},
   "outputs": [],
   "source": [
    "fabs_dict = {}\n",
    "fab_inds_dict = {}\n",
    "for which_one in ['PBMC', 'memory','naive']:\n",
    "    fabs = []\n",
    "    fab_inds = []\n",
    "    for filename, df in dfs.items():\n",
    "        if which_one not in filename and which_one != 'PBMC':\n",
    "            continue\n",
    "        if which_one == 'PBMC' and ('memory' in filename or 'naive' in filename):\n",
    "            continue\n",
    "        bins = df['bins']\n",
    "        fab = df['freq_pair']\n",
    "        fabs.append(fab)\n",
    "        fa = df['freq_alpha']\n",
    "        fb = df['freq_beta']\n",
    "        fab_ind = np.convolve(fa, fb, mode='full')[:fab.shape[0]]\n",
    "        fab_inds.append(fab_ind)\n",
    "    fabs = np.array(fabs)\n",
    "    fab_inds = np.array(fab_inds)\n",
    "    fabs_dict[which_one] = fabs\n",
    "    fab_inds_dict[which_one] = fab_inds"
   ]
  },
  {
   "cell_type": "markdown",
   "metadata": {},
   "source": [
    "## Visualize"
   ]
  },
  {
   "cell_type": "code",
   "execution_count": 7,
   "metadata": {},
   "outputs": [
    {
     "data": {
      "image/png": "[encoded data removed]",
      "text/plain": [
       "<Figure size 180x144 with 1 Axes>"
      ]
     },
     "metadata": {},
     "output_type": "display_data"
    }
   ],
   "source": [
    "fig, ax = plt.subplots(figsize=(2.5, 2.0))\n",
    "\n",
    "hist_norm = np.mean(multimer_pcDeltas, axis=0)\n",
    "ax.plot(np.arange(len(hist_norm)), hist_norm, '-', label='Multimer$^+$', color='C1')\n",
    "\n",
    "for i, which_one in enumerate(['PBMC', 'memory', 'naive']):\n",
    "    fab = fabs_dict[which_one].mean(axis=0)\n",
    "    fab_std = fabs_dict[which_one].std(axis=0)\n",
    "    ax.plot(bins, fab, '--' if which_one =='memory' else '-', color=f'C{i+2}',\n",
    "            label=which_one if which_one =='PBMC' else which_one.capitalize())\n",
    "    \n",
    "fab_ind = fab_inds_dict['PBMC'].mean(axis=0)\n",
    "ax.plot(bins, fab_ind, '-', label='Background', color='C0', zorder=-5)\n",
    "    \n",
    "ax.legend(loc='lower right', bbox_to_anchor=(1.0, 0.0))\n",
    "\n",
    "ax.set_xlim(-0.2, 10.5)\n",
    "ax.set_ylim(1e-12, 5e-2)\n",
    "\n",
    "ax.set_yscale('log')\n",
    "ax.set_xlabel(r'$\\Delta$ (CDR3$\\alpha\\beta$)')\n",
    "ax.set_ylabel('$p_C(\\Delta)$')\n",
    "\n",
    "fig.savefig('figures/figure6.svg')"
   ]
  },
  {
   "cell_type": "code",
   "execution_count": 8,
   "metadata": {},
   "outputs": [
    {
     "data": {
      "text/plain": [
       "('4.027384e-12', '2.603449e-08', '4.158932e-04')"
      ]
     },
     "execution_count": 8,
     "metadata": {},
     "output_type": "execute_result"
    }
   ],
   "source": [
    "'%e'%fab_ind[0], '%e'%fabs_dict['PBMC'].mean(axis=0)[0], '%e'%np.mean(multimer_pcDeltas, axis=0)[0]"
   ]
  },
  {
   "cell_type": "code",
   "execution_count": null,
   "metadata": {},
   "outputs": [],
   "source": []
  }
 ],
 "metadata": {
  "kernelspec": {
   "display_name": "Python 3",
   "language": "python",
   "name": "python3"
  },
  "language_info": {
   "codemirror_mode": {
    "name": "ipython",
    "version": 3
   },
   "file_extension": ".py",
   "mimetype": "text/x-python",
   "name": "python",
   "nbconvert_exporter": "python",
   "pygments_lexer": "ipython3",
   "version": "3.6.13"
  }
 },
 "nbformat": 4,
 "nbformat_minor": 4
}
