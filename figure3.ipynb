{
 "cells": [
  {
   "cell_type": "markdown",
   "metadata": {},
   "source": [
    "# A selection signature across datasets"
   ]
  },
  {
   "cell_type": "code",
   "execution_count": 1,
   "metadata": {},
   "outputs": [],
   "source": [
    "import numpy as np\n",
    "import pandas as pd\n",
    "import matplotlib.pyplot as plt\n",
    "\n",
    "import pyrepseq as prs\n",
    "import pyrepseq.plotting as pp\n",
    "\n",
    "from lib import *\n",
    "\n",
    "plt.style.use('tcrspace.mplstyle')\n",
    "\n",
    "pcDelta_kwargs = dict(pseudocount=0.0, normalize=True)"
   ]
  },
  {
   "cell_type": "markdown",
   "metadata": {},
   "source": [
    "## Data loading and preprocessing"
   ]
  },
  {
   "cell_type": "code",
   "execution_count": 2,
   "metadata": {},
   "outputs": [],
   "source": [
    "back_norms, bins = prs.load_pcDelta_background()"
   ]
  },
  {
   "cell_type": "markdown",
   "metadata": {},
   "source": [
    "### Dash 2017"
   ]
  },
  {
   "cell_type": "code",
   "execution_count": 3,
   "metadata": {},
   "outputs": [],
   "source": [
    "dash = pd.read_csv(data_directory+'dash_human.csv')\n",
    "dash_epitopes = dash['epitope'].unique()\n",
    "chains = ['alpha', 'beta']\n",
    "cdr3_columns = {'alpha': 'cdr3_a_aa',\n",
    "                'beta' : 'cdr3_b_aa'}\n",
    "dash_pcDeltas_dict = {}\n",
    "for chain in chains:\n",
    "    dash_pcDeltas_dict[chain] = prs.pcDelta_grouped(dash, 'epitope',\n",
    "                                                    cdr3_columns[chain],\n",
    "                                                    **pcDelta_kwargs)\n",
    "dash_pcDeltas_dict['both'] = prs.pcDelta_grouped(dash, 'epitope',\n",
    "                                                [cdr3_columns[chain] for chain in chains],\n",
    "                                                **pcDelta_kwargs)"
   ]
  },
  {
   "cell_type": "markdown",
   "metadata": {},
   "source": [
    "### Nolan 2020"
   ]
  },
  {
   "cell_type": "code",
   "execution_count": 4,
   "metadata": {},
   "outputs": [],
   "source": [
    "mira = pd.read_csv(data_directory + 'mira/processed/peptide-detail-ci.csv')\n",
    "mira['nAminoAcids'] = mira['Amino Acids'].apply(lambda s: len(s.split(',')))\n",
    "mask = mira['nAminoAcids']==1\n",
    "mask &= mira['amino_acid'].apply(prs.isvalidcdr3)\n",
    "mira = mira[mask]\n",
    "mira = mira.groupby('Amino Acids').filter(lambda x: len(x) > 150)"
   ]
  },
  {
   "cell_type": "code",
   "execution_count": 5,
   "metadata": {},
   "outputs": [],
   "source": [
    "mira_pcDeltas = prs.pcDelta_grouped(mira, 'Amino Acids', 'amino_acid', **pcDelta_kwargs)"
   ]
  },
  {
   "cell_type": "markdown",
   "metadata": {},
   "source": [
    "### Minervina 2021"
   ]
  },
  {
   "cell_type": "code",
   "execution_count": 6,
   "metadata": {},
   "outputs": [
    {
     "name": "stdout",
     "output_type": "stream",
     "text": [
      "alpha 4 M 306\n",
      "alpha 4 W 204\n",
      "alpha 4 both 510\n",
      "alpha 8 M 300\n",
      "alpha 8 W 83\n",
      "alpha 8 both 383\n",
      "beta 4 M 325\n",
      "beta 4 W 218\n",
      "beta 4 both 543\n",
      "beta 8 M 287\n",
      "beta 8 W 70\n",
      "beta 8 both 357\n"
     ]
    }
   ],
   "source": [
    "minervina_hist_norms = {}\n",
    "# contracting from day 15 to 85\n",
    "chain_to_table = {'alpha' : 4,\n",
    "                  'beta': 3}\n",
    "for chain in ['alpha', 'beta']:\n",
    "    minervina = pd.read_csv(f'{data_directory}minervina/Table_S{chain_to_table[chain]}.tsv', sep='\\t')\n",
    "    for cd in [4, 8]:\n",
    "        for donor in ['M', 'W', 'both']:\n",
    "            if donor == 'both':\n",
    "                distances = []\n",
    "                for d in ['M', 'W']:\n",
    "                    seqs = minervina[(minervina['CD']==f'CD{cd}')]['CDR3.amino.acid.sequence']\n",
    "                    distances.append(prs.pdist(seqs))\n",
    "                np.concatenate(distances)\n",
    "            else:\n",
    "                seqs = minervina[(minervina['CD']==f'CD{cd}')\n",
    "                                &(minervina['donor']==donor)]['CDR3.amino.acid.sequence']\n",
    "                distances = prs.pdist(seqs)\n",
    "\n",
    "            print(chain, cd, donor, len(seqs))\n",
    "            hist, bins_ = np.histogram(distances, bins=bins)\n",
    "            minervina_hist_norm = hist/np.sum(hist)\n",
    "            minervina_hist_norms[chain, cd, donor] = minervina_hist_norm"
   ]
  },
  {
   "cell_type": "markdown",
   "metadata": {},
   "source": [
    "### Tanno 2020"
   ]
  },
  {
   "cell_type": "code",
   "execution_count": 7,
   "metadata": {},
   "outputs": [],
   "source": [
    "dfs = {filename : pd.read_csv(f'{data_directory}tanno/pruned/pdist_{filename}.csv')\n",
    "       for filename in tannofiles}"
   ]
  },
  {
   "cell_type": "code",
   "execution_count": 8,
   "metadata": {},
   "outputs": [],
   "source": [
    "def N_from_pairs(pairs):\n",
    "    return round((1+np.sqrt(1+8*pairs))/2)"
   ]
  },
  {
   "cell_type": "code",
   "execution_count": 9,
   "metadata": {},
   "outputs": [],
   "source": [
    "fabs = []\n",
    "for filename, df in dfs.items():    \n",
    "    if 'naive' in filename or 'memory' in filename:\n",
    "        continue\n",
    "    cab = df['count_pair']\n",
    "    if N_from_pairs(np.sum(cab)) < 25000:\n",
    "        continue\n",
    "        \n",
    "    fab = df['freq_pair']\n",
    "    fabs.append(fab)\n",
    "\n",
    "fab = np.array(fabs).mean(axis=0)"
   ]
  },
  {
   "cell_type": "markdown",
   "metadata": {},
   "source": [
    "### Minervina 2022"
   ]
  },
  {
   "cell_type": "code",
   "execution_count": 10,
   "metadata": {},
   "outputs": [],
   "source": [
    "df = pd.read_csv(f'{data_directory}/minervina2022.csv')\n",
    "df = df.groupby('epitope').filter(lambda x: len(x) > 150)\n",
    "minervina22_pcDeltas = prs.pcDelta_grouped(df, 'epitope', ['cdr3a', 'cdr3b'], **pcDelta_kwargs)"
   ]
  },
  {
   "cell_type": "markdown",
   "metadata": {},
   "source": [
    "## Putting it all togeter"
   ]
  },
  {
   "cell_type": "code",
   "execution_count": 11,
   "metadata": {},
   "outputs": [],
   "source": [
    "def func(Delta, A, Deltac, pcb):\n",
    "    B = 1.0 - np.sum(A*np.exp(-Delta/Deltac)*pcb)\n",
    "    print(B, A)\n",
    "    return A*np.exp(-Delta/Deltac) + B"
   ]
  },
  {
   "cell_type": "code",
   "execution_count": 12,
   "metadata": {},
   "outputs": [
    {
     "name": "stdout",
     "output_type": "stream",
     "text": [
      "0.827241234264301 491677146.2559957\n",
      "0.9930056362857353 19906189.86111158\n",
      "0.9999980092480584 5665.745696926808\n",
      "0.8526354317166165 4994.726385751065\n",
      "0.9994580838135556 18.36752963639483\n",
      "0.6908118173399532 25962.36122062529\n",
      "0.9911667904559083 741.7197350434778\n",
      "0.9975086781034891 209.19492600784525\n"
     ]
    },
    {
     "data": {
      "image/png": "[encoded data removed]",
      "text/plain": [
       "<Figure size 254.88x324 with 8 Axes>"
      ]
     },
     "metadata": {},
     "output_type": "display_data"
    }
   ],
   "source": [
    "fig, axes_arr = plt.subplots(figsize=(3.54, 4.5),\n",
    "                         ncols=3, nrows=3,\n",
    "                         sharex=False, sharey=False)\n",
    "\n",
    "\n",
    "title_kwargs = dict(ha='right', va='top', size='small')\n",
    "\n",
    "data_color = 'C4'\n",
    "fit_color = 'C3'\n",
    "\n",
    "# xy coordinates for the title annotation of each subplot\n",
    "title_y = 1.15\n",
    "title_x = 0.95\n",
    "\n",
    "\n",
    "Deltac = 1/np.log(10)\n",
    "\n",
    "#### alpha beta ####\n",
    "\n",
    "xmax = 17\n",
    "\n",
    "axes = axes_arr[0, :]\n",
    "hist_back_norm = back_norms['both']\n",
    "\n",
    "\n",
    "hist_norm = np.mean(dash_pcDeltas_dict['both'], axis=0)\n",
    "axes[0].plot(bins[:xmax], hist_norm[:xmax]/hist_back_norm[:xmax], 'o', color=data_color)\n",
    "A = (hist_norm[:xmax]/hist_back_norm[:xmax])[0]\n",
    "axes[0].plot(bins[:xmax], func(bins[:xmax], A, Deltac, hist_back_norm[:xmax]),\n",
    "             color=fit_color)\n",
    "axes[0].text(title_x, title_y,\n",
    "             'Tetramer\\nBinding\\n\\nEBV\\nCMV\\nFlu',\n",
    "             transform=axes[0].transAxes, **title_kwargs)\n",
    "\n",
    "\n",
    "hist_norm = minervina22_pcDeltas.mean(axis=0)\n",
    "axes[1].plot(bins[:xmax], hist_norm[:xmax]/hist_back_norm[:xmax], 'o', color=data_color)\n",
    "A = (hist_norm[:xmax]/hist_back_norm[:xmax])[0]\n",
    "axes[1].plot(bins[:xmax], func(bins[:xmax], A, Deltac, hist_back_norm[:xmax]),\n",
    "             color=fit_color)\n",
    "axes[1].text(title_x, title_y,\n",
    "             'Dextramer\\nBinding\\n\\nSARS-CoV-2',\n",
    "             transform=axes[1].transAxes, **title_kwargs)\n",
    "\n",
    "hist_norm = fab\n",
    "axes[2].plot(bins[:xmax], hist_norm[:xmax]/hist_back_norm[:xmax],\n",
    "             'o', color=data_color)\n",
    "A = hist_norm[0]/hist_back_norm[0]\n",
    "axes[2].plot(bins[:xmax], func(bins[:xmax], A, Deltac,\n",
    "             hist_back_norm[:xmax]), color=fit_color)\n",
    "axes[2].text(title_x, title_y,\n",
    "             'Unsorted\\nPBMCs\\n\\nMixed',\n",
    "             transform=axes[2].transAxes, **title_kwargs)\n",
    "\n",
    "\n",
    "axes[0].set_ylabel(r'$p_C(\\Delta)\\,/\\,p_{C,back}(\\Delta)$')\n",
    "for ax in axes:\n",
    "    ax.set_yscale('log')\n",
    "    ax.set_xlim(-0.5, 17.5)\n",
    "    ax.set_ylim(2e-1, 2e9)\n",
    "    ax.set_yticks(10**np.arange(0, 10, 2))\n",
    "    ax.set_xticks(np.arange(0, 20, 5))\n",
    "    ax.set_xlabel(r'$\\Delta$ (CDR3$\\alpha\\beta$)')\n",
    "for ax in axes[1:]:\n",
    "    ax.set_yticklabels([])\n",
    "\n",
    "#### alpha ####\n",
    "\n",
    "axes = axes_arr[1, :]\n",
    "\n",
    "hist_norm = np.mean(dash_pcDeltas_dict['alpha'], axis=0)\n",
    "hist_back_norm = back_norms['alpha'][:len(hist_norm)]\n",
    "axes[0].plot(bins[:-1], hist_norm / hist_back_norm, 'o', label='Data', color=data_color)\n",
    "A = (hist_norm / hist_back_norm)[0]\n",
    "axes[0].plot(bins[:-1], func(bins[:-1], A, Deltac, hist_back_norm),\n",
    "             label=r'$\\frac{K \\, 10^{-\\Delta}+1}{Z}$', color=fit_color)\n",
    "axes[0].text(title_x, title_y,\n",
    "             'Tetramer\\nBinding\\n\\nEBV\\nCMV\\nFlu',\n",
    "             transform=axes[0].transAxes, **title_kwargs)\n",
    "\n",
    "chain = 'alpha'\n",
    "cd = 8\n",
    "donor = 'both'\n",
    "hist_norm = minervina_hist_norms[chain, cd, donor]\n",
    "axes[1].plot(bins[:-1], hist_norm / hist_back_norm, 'o', color=data_color)\n",
    "A = (hist_norm / hist_back_norm)[0]\n",
    "axes[1].plot(bins[:-1], func(bins[:-1], A, Deltac, hist_back_norm), color=fit_color)\n",
    "axes[1].text(title_x, title_y,\n",
    "             'Temporal\\nTracking\\n\\nSARS-CoV-2',\n",
    "             transform=axes[1].transAxes,  **title_kwargs)\n",
    "\n",
    "axes[0].set_ylabel(r'$p_C(\\Delta)\\,/\\,p_{C,back}(\\Delta)$')\n",
    "for ax in axes:\n",
    "    ax.set_yscale('log')\n",
    "    ax.set_xlabel(r'$\\Delta$ (CDR3$\\alpha$)')\n",
    "    ax.set_xlim(-1, 13.5)\n",
    "    ax.set_ylim(4e-1, 1.1e5)\n",
    "    ax.set_xticks(np.arange(0, 14, 5))\n",
    "    ax.set_yticks(10**np.arange(6))\n",
    "for ax in axes[1:]:\n",
    "    ax.set_yticklabels([])\n",
    "axes_arr[1, 2].remove()\n",
    "\n",
    "\n",
    "#### beta ####\n",
    "\n",
    "axes = axes_arr[2, :]\n",
    "\n",
    "hist_norm = np.mean(dash_pcDeltas_dict['beta'], axis=0)\n",
    "hist_back_norm = back_norms['beta'][:len(hist_norm)]\n",
    "axes[0].plot(bins[:-1], hist_norm / hist_back_norm, 'o', label='Data', color=data_color)\n",
    "A = (hist_norm / hist_back_norm)[0]\n",
    "axes[0].plot(bins[:-1], func(bins[:-1], A, Deltac, hist_back_norm),\n",
    "             label=r'Reference $(K \\, 10^{-\\Delta}+1)/Z$', color=fit_color)\n",
    "axes[0].text(title_x, title_y,\n",
    "             'Tetramer\\nBinding\\n\\nEBV\\nCMV\\nFlu',\n",
    "             transform=axes[0].transAxes, **title_kwargs)\n",
    "handles, labels = axes[0].get_legend_handles_labels()\n",
    "fig.legend(handles, labels, loc='center right', ncol=1, bbox_to_anchor=(0.95, 0.5))\n",
    "\n",
    "hist_norm = np.mean(mira_pcDeltas, axis=0)\n",
    "axes[2].plot(bins[:-1], hist_norm / hist_back_norm, 'o', color=data_color)\n",
    "A = (hist_norm / hist_back_norm)[0]\n",
    "axes[2].plot(bins[:-1], func(bins[:-1], A, Deltac, hist_back_norm), color=fit_color)\n",
    "axes[2].text(title_x, title_y,\n",
    "             'Peptide-Stim\\nActivation\\n\\nSARS-CoV-2',\n",
    "             transform=axes[2].transAxes,  **title_kwargs)\n",
    "\n",
    "chain = 'beta'\n",
    "cd = 8\n",
    "donor = 'both'\n",
    "hist_norm = minervina_hist_norms[chain, cd, donor]\n",
    "axes[1].plot(bins[:-1], hist_norm / hist_back_norm, 'o', color=data_color)\n",
    "A = (hist_norm / hist_back_norm)[0]\n",
    "axes[1].plot(bins[:-1], func(bins[:-1], A, Deltac, hist_back_norm), color=fit_color)\n",
    "axes[1].text(title_x, title_y,\n",
    "             'Temporal\\nTracking\\n\\nSARS-CoV-2',\n",
    "             transform=axes[1].transAxes,  **title_kwargs)\n",
    "\n",
    "axes[0].set_ylabel(r'$p_C(\\Delta)\\,/\\,p_{C,back}(\\Delta)$')\n",
    "for ax in axes:\n",
    "    ax.set_yscale('log')\n",
    "    ax.set_xlabel(r'$\\Delta$ (CDR3$\\beta$)')\n",
    "    ax.set_xlim(-1, 13.5)\n",
    "    ax.set_ylim(4e-1, 1.1e5)\n",
    "    ax.set_xticks(np.arange(0, 14, 5))\n",
    "    ax.set_yticks(10**np.arange(6))\n",
    "for ax in axes[1:]:\n",
    "    ax.set_yticklabels([])\n",
    "\n",
    "pad = 1.0\n",
    "for ax, row in zip(axes_arr[:,0], [r'$\\alpha\\beta$', r'$\\alpha$', r'$\\beta$',]):\n",
    "    ax.annotate(row, xy=(0, 0.5), xytext=(-ax.yaxis.labelpad - pad, 0),\n",
    "                xycoords=ax.yaxis.label, textcoords='offset points',\n",
    "                size='large', ha='right', va='center')\n",
    "\n",
    "\n",
    "pp.label_axes(fig, xy=(-0.07, 1.12))\n",
    "fig.tight_layout(h_pad=0.2, w_pad=0.2, pad=0.0)\n",
    "\n",
    "fig.savefig('figures/raw/figure3.svg')"
   ]
  },
  {
   "cell_type": "code",
   "execution_count": null,
   "metadata": {},
   "outputs": [],
   "source": []
  }
 ],
 "metadata": {
  "kernelspec": {
   "display_name": "Python 3",
   "language": "python",
   "name": "python3"
  },
  "language_info": {
   "codemirror_mode": {
    "name": "ipython",
    "version": 3
   },
   "file_extension": ".py",
   "mimetype": "text/x-python",
   "name": "python",
   "nbconvert_exporter": "python",
   "pygments_lexer": "ipython3",
   "version": "3.6.13"
  }
 },
 "nbformat": 4,
 "nbformat_minor": 4
}
