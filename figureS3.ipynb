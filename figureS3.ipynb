{
 "cells": [
  {
   "cell_type": "markdown",
   "metadata": {},
   "source": [
    "# Why prefilter paired chain data?"
   ]
  },
  {
   "cell_type": "code",
   "execution_count": 1,
   "metadata": {},
   "outputs": [],
   "source": [
    "import numpy as np\n",
    "import pandas as pd\n",
    "import matplotlib.pyplot as plt\n",
    "import matplotlib\n",
    "\n",
    "import pyrepseq as prs\n",
    "import pyrepseq.plotting as pp\n",
    "\n",
    "from lib import *\n",
    "\n",
    "plt.style.use('tcrspace.mplstyle')"
   ]
  },
  {
   "cell_type": "code",
   "execution_count": 2,
   "metadata": {},
   "outputs": [],
   "source": [
    "ratios = []\n",
    "pc_raw = []\n",
    "pc_corrected = []\n",
    "for name in tannofiles[:9]:\n",
    "    df = pd.read_csv(f'{data_directory}/tanno/{name}.txt', sep='\\t')\n",
    "    df = df.sort_values('Clustered', ascending=False)\n",
    "    valid_light = df['CDRL3_AA'].apply(prs.isvalidcdr3)\n",
    "    valid_heavy = df['CDRH3_AA'].apply(prs.isvalidcdr3)\n",
    "    df = df[valid_light & valid_heavy]\n",
    "    ratio = prs.pc(df['CDRL3_NT'])/prs.pc(df['CDRL3_AA'])\n",
    "    pc_raw.append(prs.pc(df['CDRL3_AA']))\n",
    "    df.drop_duplicates('CDRL3_NT', inplace=True)\n",
    "    pc_corrected.append(prs.pc(df['CDRL3_AA']))\n",
    "    ratios.append(ratio)"
   ]
  },
  {
   "cell_type": "code",
   "execution_count": 3,
   "metadata": {},
   "outputs": [],
   "source": [
    "df = pd.read_csv(f'{data_directory}/post_sample_alpha.csv',\n",
    "                 names=['amino_acid', 'v_gene', 'j_gene', 'nucleotide'])\n",
    "ratio_expected = prs.pc(df['nucleotide'])/prs.pc(df['amino_acid'])"
   ]
  },
  {
   "cell_type": "code",
   "execution_count": 4,
   "metadata": {},
   "outputs": [],
   "source": [
    "chain='alpha'\n",
    "pc_data = []\n",
    "for subject in ['W', 'M']:\n",
    "    df_back = pd.read_csv(f'{data_directory}/minervina/{chain}/{subject}_F1_2018_{chain}.txt.gz',\n",
    "                          sep='\\t')\n",
    "    df_back = df_back[df_back['aaSeqCDR3'].apply(prs.isvalidcdr3)]\n",
    "    pc_data.append(prs.pc(df_back['aaSeqCDR3']))"
   ]
  },
  {
   "cell_type": "code",
   "execution_count": 5,
   "metadata": {},
   "outputs": [],
   "source": [
    "colors = matplotlib.rcParams['axes.prop_cycle'].by_key()['color']"
   ]
  },
  {
   "cell_type": "code",
   "execution_count": 6,
   "metadata": {},
   "outputs": [
    {
     "data": {
      "image/png": "[encoded data removed]",
      "text/plain": [
       "<Figure size 246.24x144 with 2 Axes>"
      ]
     },
     "metadata": {},
     "output_type": "display_data"
    }
   ],
   "source": [
    "fig, axes = plt.subplots(figsize=(3.42, 2.0), ncols=2)\n",
    "ax = axes[0]\n",
    "ax.plot(['Model'], [ratio_expected], 'o')\n",
    "ax.scatter(['Data']*len(ratios), ratios, color=colors[:len(ratios)])\n",
    "ax.set_ylabel('NT $p_C$ / AA $p_C$')\n",
    "ax.set_ylim(0, 1.0)\n",
    "ax.set_xlim(-0.3, 1.3)\n",
    "ax=axes[1]\n",
    "pcs = np.array(list(zip(pc_raw, pc_corrected)))\n",
    "for raw, corrected in pcs:\n",
    "    ax.plot(['Raw', 'Filtered'], [raw, corrected], 'o-')\n",
    "ax.plot(['Bulk']*len(pc_data), pc_data, 'o')\n",
    "ax.set_ylabel('$p_C$')\n",
    "ax.set_yscale('log')\n",
    "ax.set_xlim(-0.3, 2.3)\n",
    "ax.set_ylim(1e-6, 1.7e-4)\n",
    "fig.tight_layout()\n",
    "pp.label_axes(fig, xy=(-0.4, 1.0))\n",
    "fig.savefig('figures/figureS3.svg')"
   ]
  },
  {
   "cell_type": "markdown",
   "metadata": {},
   "source": [
    "Rationale for collapsing alpha chains paired with multiple beta chains in the paired chain data from Tanno. The ratio between nucleotide and amino acid coincidences probabilities for alpha chains is substantially higher than expected from models of VDJ recombination suggesting potential cross-contamination. Collapsing redundant alpha chains reduces variation in amino acid coincidence probabilities across samples and makes them more comparable to those found in bulk single chain datasets (subjects M and W at baseline from Minervina 2021)."
   ]
  },
  {
   "cell_type": "code",
   "execution_count": null,
   "metadata": {},
   "outputs": [],
   "source": []
  }
 ],
 "metadata": {
  "kernelspec": {
   "display_name": "Python 3",
   "language": "python",
   "name": "python3"
  },
  "language_info": {
   "codemirror_mode": {
    "name": "ipython",
    "version": 3
   },
   "file_extension": ".py",
   "mimetype": "text/x-python",
   "name": "python",
   "nbconvert_exporter": "python",
   "pygments_lexer": "ipython3",
   "version": "3.6.13"
  }
 },
 "nbformat": 4,
 "nbformat_minor": 4
}
